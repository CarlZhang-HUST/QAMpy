{
 "cells": [
  {
   "cell_type": "code",
   "execution_count": 3,
   "metadata": {},
   "outputs": [
    {
     "name": "stdout",
     "output_type": "stream",
     "text": [
      "Populating the interactive namespace from numpy and matplotlib\n"
     ]
    }
   ],
   "source": [
    "%pylab inline\n",
    "\n",
    "from qampy.core import io\n",
    "from qampy import signals,impairments,helpers,equalisation,io, filtering,phaserec, helpers\n",
    "from qampy.core import impairments as impair\n",
    "from qampy.core import digital_pre_compensation as dpc\n",
    "from scipy import signal\n",
    "\n",
    "# plot 1-D signal\n",
    "def plot_1d(mysig):\n",
    "    figure(figsize=(6,6))\n",
    "    plot(mysig.real.flatten(),mysig.imag.flatten(),'b.')\n",
    "    axis(\"square\")\n",
    "    # xticks([])\n",
    "    # yticks([])\n",
    "    # axis([-1.5,1.5,-1.5,1.5])\n",
    "    title(\"Complete Frame\")\n",
    "    show()\n",
    "    \n",
    "def pilot_rxDSP(sig_h, roll_off, tap_num=31, mu=1e-2, shiftfac=9992):\n",
    "    # Rx\n",
    "    rxsig = sig_h.resample(2*sig_h.fb, beta=roll_off, renormalise=True)\n",
    "    rxsig = helpers.normalise_and_center(rxsig)\n",
    "    \n",
    "    # rxsig.sync2frame()\n",
    "    rxsig.shiftfctrs = np.array([shiftfac], dtype='int')\n",
    "    rxsig.synctaps = 17\n",
    "    eq_sig = equalisation.pilot_equalizer(rxsig,(mu, mu), tap_num,foe_comp=False,methods=(\"mcma\",\"mddma\"), adaptive_stepsize=True)\n",
    "    cpe_sig = phaserec.pilot_cpe(eq_sig[1],N=5,use_seq=False)\n",
    "    receive_sig = cpe_sig[0]\n",
    "    receive_payload = receive_sig.get_data()\n",
    "    SER = receive_payload.cal_ser()\n",
    "    return SER, receive_sig"
   ]
  },
  {
   "cell_type": "code",
   "execution_count": 14,
   "metadata": {},
   "outputs": [],
   "source": [
    "def sim_channel_and_rxDSP(sig_delay, arc_arr, vpp_arr, clip_lvl, noise_var, enob=5):\n",
    "\n",
    "    PAPR_sig_delay = (abs(sig_delay.real)**2).max()/(abs(sig_delay.real)**2).mean()\n",
    "\n",
    "    # arcsin()\n",
    "    arc_swing = arc_arr\n",
    "    sig_arc_swi = helpers.rescale_signal(sig_delay, 1) * arc_swing\n",
    "    sig_arc = dpc.modulator_arsin(sig_arc_swi, 3.5)\n",
    "    PAPR_sig_arc = (abs(sig_arc.real)**2).max()/(abs(sig_arc.real)**2).mean()\n",
    "\n",
    "    # dac freq comp\n",
    "    p_f = dpc.dac_freq_comp(sig_delay.fb, sig_delay.shape[1], roll_off, PAPR_sig_arc, prms_dac=(16e9, 2, 'sos', enob))\n",
    "    sig_f = np.fft.fft(sig_arc)\n",
    "    sig_comp = np.fft.ifft( sig_f * np.atleast_2d(p_f) )\n",
    "    sig_comp = sig_delay.recreate_from_np_array(sig_comp)\n",
    "    PAPR_sig_comp = (abs(sig_comp.real)**2).max()/(abs(sig_comp.real)**2).mean()\n",
    "\n",
    "    # clipping\n",
    "    res_volt = clip_lvl\n",
    "    sig_res = helpers.rescale_signal(sig_comp,res_volt) \n",
    "    sig_clip = dpc.clipper(sig_res,1)\n",
    "    PAPR_sig_clip = (abs(sig_clip.real)**2).max()/(abs(sig_clip.real)**2).mean()\n",
    "\n",
    "    # Quantizer\n",
    "    sigq = impair.quantize_signal_New(sig_clip, nbits=8, rescale_in=True, rescale_out=True)\n",
    "    sig_dac_out, sig_enob_noise, snr_enob = impair.sim_DAC_response(sigq, sigq.fs, enob, 16e9, quantizer_model=True)\n",
    "    sig_dac_out = sig_delay.recreate_from_np_array(sig_dac_out)        \n",
    "\n",
    "    # amp and mod response\n",
    "    amp_volt = vpp_arr/2\n",
    "    sig_amp_out = impair.ideal_amplifier_response(sig_dac_out, amp_volt)\n",
    "    sig_mod_out = impairments.sim_mod_response(sig_amp_out)\n",
    "\n",
    "    # Add fixed noise\n",
    "    sig_rx = impairments.add_awgn(sig_mod_out, np.sqrt(noise_var * 2))\n",
    "\n",
    "    # Rx \n",
    "    SER, receive_sig = pilot_rxDSP(sig_rx, roll_off=0.1)\n",
    "            \n",
    "    return SER, receive_sig"
   ]
  },
  {
   "cell_type": "code",
   "execution_count": 19,
   "metadata": {},
   "outputs": [
    {
     "name": "stdout",
     "output_type": "stream",
     "text": [
      "PAPR of sig_delay is 9.847602\n"
     ]
    }
   ],
   "source": [
    "M = 64                  # modulation format\n",
    "pilot_seq_len = 1024    # pilot squence length, notice:phase pilots are not included \n",
    "pilot_ins_rat = 32      # i.e. for every 32 symbol, one phase pilot symbol is inserted \n",
    "N = 2**18               # total sequence length (Sequenc pilot + phase pilot + payload)\n",
    "nmodes = 1              # number of polarization mode\n",
    "fb = 40e9               # symbol rate\n",
    "N_pl = int( (N-pilot_seq_len)*(pilot_ins_rat-1)/pilot_ins_rat )  # payload sequence length\n",
    "\n",
    "pilot_sig = signals.SignalWithPilots(M, N, pilot_seq_len, pilot_ins_rat, nmodes=nmodes, Mpilots=4, nframes=2, fb=fb)\n",
    "\n",
    "roll_off = 0.1   # roll-off factor of rrc filter\n",
    "os_rate = 2      # over-sampling rate\n",
    "pilot_sigResam = pilot_sig.resample(os_rate*pilot_sig.fb, beta=roll_off)\n",
    "\n",
    "delay = 10000    # delay 10000 symbol on purpose of synchronization\n",
    "sig_delay = np.roll(pilot_sigResam,delay,axis=-1)\n",
    "\n",
    "PAPR_sigResam = (abs(sig_delay.real)**2).max()/(abs(sig_delay.real)**2).mean()\n",
    "print('PAPR of sig_delay is %f'%PAPR_sigResam)"
   ]
  },
  {
   "cell_type": "code",
   "execution_count": 20,
   "metadata": {},
   "outputs": [],
   "source": [
    "snr_tar = 28\n",
    "noise_var = 10**(-13.6/10)/10**(snr_tar/10)"
   ]
  },
  {
   "cell_type": "markdown",
   "metadata": {},
   "source": [
    "# Without Compensation"
   ]
  },
  {
   "cell_type": "code",
   "execution_count": 37,
   "metadata": {},
   "outputs": [],
   "source": [
    "arc_arr = np.linspace(1, 1, 1)\n",
    "vpp_arr = np.linspace(0.2, 1.2, 11)*7\n",
    "power_out_pilot_ori = np.zeros((arc_arr.shape[0],vpp_arr.shape[0]))\n",
    "SER_pilot_ori = np.zeros((arc_arr.shape[0],vpp_arr.shape[0]))\n",
    "BER_pilot_ori = np.zeros((arc_arr.shape[0],vpp_arr.shape[0]))\n",
    "\n",
    "sig_res = helpers.rescale_signal(sig_delay, 1)\n",
    "for i in range(arc_arr.shape[0]):\n",
    "    \n",
    "    enob = 5\n",
    "    \n",
    "    # Quantizer\n",
    "    sigq = impair.quantize_signal_New(sig_res, nbits=8, rescale_in=True, rescale_out=True)\n",
    "    sig_dac_out, sig_enob_noise, snr_enob = impair.sim_DAC_response(sigq, sigq.fs, enob, 16e9, quantizer_model=True)\n",
    "    sig_dac_out = pilot_sigResam.recreate_from_np_array(sig_dac_out)        \n",
    "    \n",
    "    for j in range(vpp_arr.shape[0]):\n",
    "        \n",
    "        # amp and mod response\n",
    "        amp_volt = vpp_arr[j]/2\n",
    "        sig_amp_out = impair.ideal_amplifier_response(sig_dac_out, amp_volt)\n",
    "        sig_mod_out = impairments.sim_mod_response(sig_amp_out)\n",
    "\n",
    "        p_in = 0\n",
    "        power_out_pilot_ori[i, j] = 10 * np.log10(abs(sig_mod_out*np.conj(sig_mod_out)).mean() * (10 ** (p_in / 10))) \n",
    "        \n",
    "        # Add fixed noise\n",
    "        sig_rx = impairments.add_awgn(sig_mod_out, np.sqrt(noise_var * 2))\n",
    "        \n",
    "        # Rx \n",
    "        SER, receive_sig = pilot_rxDSP(sig_rx, roll_off=0.1, shiftfac=9994)\n",
    "        BER_pilot_ori[i,j] = receive_sig.cal_ber()\n",
    "        SER_pilot_ori[i,j] = SER"
   ]
  },
  {
   "cell_type": "code",
   "execution_count": 26,
   "metadata": {},
   "outputs": [
    {
     "data": {
      "text/plain": [
       "array([[0.00206752]])"
      ]
     },
     "execution_count": 26,
     "metadata": {},
     "output_type": "execute_result"
    }
   ],
   "source": [
    "SER_pilot_ori"
   ]
  },
  {
   "cell_type": "markdown",
   "metadata": {},
   "source": [
    "# Full compensation (arcsin, DAC compensation and clipping)"
   ]
  },
  {
   "cell_type": "code",
   "execution_count": 36,
   "metadata": {},
   "outputs": [],
   "source": [
    "arc_arr = np.linspace(1.0, 1.0, 1)\n",
    "vpp_arr = np.linspace(0.2, 1.2, 11)*7\n",
    "SER_arr_comp = np.zeros((arc_arr.shape[0],vpp_arr.shape[0]))\n",
    "BER_arr_comp = np.zeros((arc_arr.shape[0],vpp_arr.shape[0]))\n",
    "\n",
    "clip_lvl = 1.4\n",
    "enob = 5\n",
    "\n",
    "for i in range(arc_arr.shape[0]):\n",
    "    for j in range(vpp_arr.shape[0]):\n",
    "        SER_comp, rxsig_comp = sim_channel_and_rxDSP(sig_delay, arc_arr[i], vpp_arr[j], clip_lvl, noise_var, enob=enob)\n",
    "        BER_arr_comp[i,j] = rxsig_comp.cal_ber()\n",
    "        SER_arr_comp[i,j] = SER_comp"
   ]
  },
  {
   "cell_type": "code",
   "execution_count": 29,
   "metadata": {},
   "outputs": [
    {
     "data": {
      "text/plain": [
       "array([0.00016208])"
      ]
     },
     "execution_count": 29,
     "metadata": {},
     "output_type": "execute_result"
    }
   ],
   "source": [
    "SER_comp"
   ]
  },
  {
   "cell_type": "code",
   "execution_count": 39,
   "metadata": {},
   "outputs": [
    {
     "data": {
      "image/png": "[encoded data removed]",
      "text/plain": [
       "<Figure size 576x432 with 1 Axes>"
      ]
     },
     "metadata": {
      "needs_background": "light"
     },
     "output_type": "display_data"
    }
   ],
   "source": [
    "vpp_arr = np.linspace(0.2, 1.2, 11)*7\n",
    "figure(figsize=(8,6))\n",
    "plot(vpp_arr/7, SER_pilot_ori[0,:], '-o', label='Without_comp')\n",
    "plot(vpp_arr/7, SER_arr_comp[0,:], '-o', label='Full_comp')\n",
    "xlim(0.1, 1.5)\n",
    "ylim(1e-5,1e0)\n",
    "yscale('log')\n",
    "legend(fontsize=16)\n",
    "xticks(fontsize=14)\n",
    "yticks(fontsize=14)\n",
    "xlabel('Vpp/(2*Vpi)',fontsize=20)\n",
    "ylabel('SER',fontsize=20)\n",
    "grid()\n",
    "show()"
   ]
  }
 ],
 "metadata": {
  "kernelspec": {
   "display_name": "Python 3",
   "language": "python",
   "name": "python3"
  },
  "language_info": {
   "codemirror_mode": {
    "name": "ipython",
    "version": 3
   },
   "file_extension": ".py",
   "mimetype": "text/x-python",
   "name": "python",
   "nbconvert_exporter": "python",
   "pygments_lexer": "ipython3",
   "version": "3.7.6"
  }
 },
 "nbformat": 4,
 "nbformat_minor": 4
}
