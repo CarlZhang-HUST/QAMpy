{
 "cells": [
  {
   "cell_type": "markdown",
   "metadata": {},
   "source": [
    "## Introduction to QAMpy - Pilot DSP Module\n",
    "\n",
    "Here we demonstrate our pilot-based DSP using QPSK pilots. It's integrated in the QAMpy package and processing can be done using either blind methods or pilot-based\n",
    "\n",
    "It is build based on the following principle:    \n",
    "Signal is divided into frames of a given length.\n",
    "Each frame starts with a pilot-sequnence followed by the payload\n",
    "Additional pilots are inserted into the payload for continous tracking\n",
    "    \n",
    "Frame strutured in the following way:\n",
    "    \n",
    "    Pilot Sequence: N pilot symbols long. \n",
    "        Used for: \n",
    "            Frame syncronization (alignment)\n",
    "            Equalization and polarization de-multiplexing\n",
    "            Frequency offset estimation\n",
    "            \n",
    "    Phase Pilots: Periodically inserted at a ratio of P (Ex. P=32 corresponds to 1 pilot and 31 payload symbols)\n",
    "        Used for:\n",
    "            Phase tracking\n",
    "            \n",
    "    Payload: Data kept in the pilot frame\n",
    "        Our pilot-dsp uses no information from the data for processing and is  fully modulation format independent. \n",
    "                    "
   ]
  },
  {
   "cell_type": "code",
   "execution_count": null,
   "metadata": {},
   "outputs": [],
   "source": [
    "from qampy import signals, impairments, equalisation, phaserec, helpers\n",
    "import numpy as np\n",
    "\n",
    "# Simulation parameters\n",
    "M=64\n",
    "baud_rate = 40e9 # This is used to calculate normalized carrier impairments (frequency offset and phase nosie)\n",
    "os =2\n",
    "fs = os*baud_rate\n",
    "pil_ins_rat = 64\n",
    "pil_seq_len = 1024\n",
    "frame_len = 2**14\n",
    "os = 2 # Oversampling (for rx processing)\n",
    "\n",
    "# System impairments\n",
    "snr = 20\n",
    "lw = 10e3\n",
    "fo = 100e6\n",
    "omega = np.pi/5\n",
    "dgd = 40e-12\n",
    "\n"
   ]
  },
  {
   "cell_type": "markdown",
   "metadata": {},
   "source": [
    "## Demonstration using PM-64QAM Payload data\n",
    "The signal object class contains functionality to generate a frame including both pilot symbols and payload. The pilot frame is just like any other object from the signal class and the same structure applies. \n",
    "\n",
    "\n",
    "Syntax:\n",
    "\n",
    "    SignalWithPilots(M, frame_len, pilot_seq_len, pilot_ins_rat, nframes=1, pilot_scale=1, Mpilots=4,\n",
    "                dataclass=SignalQAMGrayCoded, nmodes=1, dtype=np.complex128,  **kwargs)\n",
    "    \n",
    "\n",
    "\n",
    "\n"
   ]
  },
  {
   "cell_type": "code",
   "execution_count": null,
   "metadata": {},
   "outputs": [],
   "source": [
    "## Genererate the signal with payload and pilots\n",
    "pilot_signal = signals.SignalWithPilots(M,frame_len,pil_seq_len,pil_ins_rat,nframes=5,fb = baud_rate)\n",
    "\n",
    "## Add all the impairments to the frame\n",
    "pilot_signal = impairments.change_snr(pilot_signal,snr)\n",
    "pilot_signal = impairments.apply_phase_noise(pilot_signal, lw)\n",
    "pilot_signal = impairments.add_carrier_offset(pilot_signal,fo)\n",
    "\n",
    "# Resample to target 2 samples per symbol and add PMD\n",
    "pilot_signal.resample(fs, beta=0.1, renormalise=True)\n",
    "pilot_signal = impairments.apply_PMD(pilot_signal, omega, dgd)\n",
    "\n"
   ]
  },
  {
   "cell_type": "code",
   "execution_count": null,
   "metadata": {},
   "outputs": [],
   "source": [
    "### Now let's call for the pilot equalizer\n",
    "import sim_pilot_txrx\n",
    "\n",
    "pilots_out, payload_out, sync, taps, phase_trace, fo = \n",
    "sim_pilot_txrx.run_pilot_receiver(pilot_signal, pilot_signal.pilots, M = M, \n",
    "                                  pilot_seq_len = pil_seq_len, pilot_ins_ratio = pil_ins_rat)"
   ]
  },
  {
   "cell_type": "code",
   "execution_count": null,
   "metadata": {},
   "outputs": [],
   "source": [
    "### Now let's look at the output result\n",
    "# here we use bokeh for plotting as it is much faster\n",
    "from bokeh.io import output_notebook\n",
    "from bokeh.plotting import figure, show\n",
    "output_notebook()\n",
    "\n"
   ]
  },
  {
   "cell_type": "code",
   "execution_count": null,
   "metadata": {},
   "outputs": [],
   "source": [
    "### Create a plotting function\n",
    "def plot_constellation(E):\n",
    "    fig = figure(title=\"QPSK signal constellation\", output_backend=\"webgl\")\n",
    "    fig.scatter(E[0].real, E[0].imag, color='red', alpha=0.3, legend=\"X\")\n",
    "    fig.scatter(E[1].real, E[1].imag, color='blue', alpha=0.3, legend=\"Y\")\n",
    "    fig.xaxis[0].axis_label = \"In-Phase\"\n",
    "    fig.yaxis[0].axis_label = \"Quadrature\"\n",
    "    show(fig)"
   ]
  },
  {
   "cell_type": "code",
   "execution_count": null,
   "metadata": {},
   "outputs": [],
   "source": [
    "### Plot the output constellation\n",
    "plot_constellation(payload_out[0]) # X-Pol\n",
    "plot_constellation(payload_out[1]) # X-Pol\n"
   ]
  },
  {
   "cell_type": "code",
   "execution_count": null,
   "metadata": {},
   "outputs": [],
   "source": [
    "## Calculate GMI-based performance metric\n",
    "gmi = np.sum([pilot_signal.cal_gmi(payload_out[0]),pilot_signal.cal_gmi(payload_out[1])])\n"
   ]
  }
 ],
 "metadata": {
  "language_info": {
   "name": "python",
   "pygments_lexer": "ipython3"
  }
 },
 "nbformat": 4,
 "nbformat_minor": 2
}
