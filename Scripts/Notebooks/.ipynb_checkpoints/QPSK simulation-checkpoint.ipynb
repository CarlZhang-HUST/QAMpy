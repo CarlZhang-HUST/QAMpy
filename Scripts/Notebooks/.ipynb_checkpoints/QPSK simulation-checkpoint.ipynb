{
 "cells": [
  {
   "cell_type": "markdown",
   "metadata": {},
   "source": [
    "# Introduction to QAMpy\n",
    "\n",
    "## A simple QPSK simulation\n",
    "\n",
    "Here we go through how to construct a basic \"simulation\" for QPSK equalisation. QAMpy aims to have all the relevant building blocks ready for you. "
   ]
  },
  {
   "cell_type": "markdown",
   "metadata": {},
   "source": [
    "### First let us import the relevant modules \n",
    "\n",
    "QAMpy provides two sets of APIs:\n",
    "* The basic API\n",
    "  \n",
    "This works with signal objects (a numpy array subclass). Generally it should do all the right things for you and makes a lot of the repetitive tasks very easy. Importantly we will strife to keep this stable so that code written for older versions should still work with newer versions.\n",
    "* The core or advanced API\n",
    "\n",
    "The core or advanced API is where all the actual processing code sits. One of the important things to remember when using is that many of the core API functions do not preserve signalobject class, but instead return numpy arrays, so you will need to keep track of this. \n",
    "\n",
    "It should in general be always possible to use the basic API for your processing"
   ]
  },
  {
   "cell_type": "code",
   "execution_count": null,
   "metadata": {},
   "outputs": [],
   "source": [
    "from qampy import signals, impairments, equalisation, phaserec, helpers\n",
    "import numpy as np\n"
   ]
  },
  {
   "cell_type": "code",
   "execution_count": null,
   "metadata": {},
   "outputs": [],
   "source": [
    "# here we use bokeh for plotting as it is much faster\n",
    "from bokeh.io import output_notebook\n",
    "from bokeh.plotting import figure, show\n",
    "output_notebook()"
   ]
  },
  {
   "cell_type": "markdown",
   "metadata": {},
   "source": [
    "OK lets start by generating a two polarization QPSK signal"
   ]
  },
  {
   "cell_type": "code",
   "execution_count": null,
   "metadata": {},
   "outputs": [],
   "source": [
    "sig = signals.SignalQAMGrayCoded(4, 2**16, fb=25e9, nmodes=2)"
   ]
  },
  {
   "cell_type": "markdown",
   "metadata": {},
   "source": [
    "Note the arguments. The *4* indicates 4-QAM, the second number is the number of symbols. *fb* is the symbol rate, here we chose 25 Gbaud, by default this would be one. The *nmodes* keyword gives the number of spatial modes (two for dual-polarization). Most QAMpy functions are \"SDM-ready\", i.e. everything should *\"just work\"*, but it has not been tested as extensively. \n",
    "\n",
    "Generally functions and classes are well documented. For example to see more options for the SignalQAMGrayCoded signals see:"
   ]
  },
  {
   "cell_type": "code",
   "execution_count": null,
   "metadata": {},
   "outputs": [],
   "source": [
    "help(signals.SignalQAMGrayCoded)"
   ]
  },
  {
   "cell_type": "markdown",
   "metadata": {},
   "source": [
    "So lets have a look at this signal. "
   ]
  },
  {
   "cell_type": "code",
   "execution_count": null,
   "metadata": {},
   "outputs": [],
   "source": [
    "def plot_constellation(E):\n",
    "    fig = figure(title=\"QPSK signal constellation\", output_backend=\"webgl\")\n",
    "    fig.scatter(E[0].real, E[0].imag, color='red', alpha=0.3, legend=\"X\")\n",
    "    fig.scatter(E[1].real, E[1].imag, color='blue', alpha=0.3, legend=\"Y\")\n",
    "    fig.xaxis[0].axis_label = \"In-Phase\"\n",
    "    fig.yaxis[0].axis_label = \"Quadrature\"\n",
    "    show(fig)"
   ]
  },
  {
   "cell_type": "code",
   "execution_count": null,
   "metadata": {},
   "outputs": [],
   "source": [
    "plot_constellation(sig)"
   ]
  },
  {
   "cell_type": "markdown",
   "metadata": {},
   "source": [
    "OK not much to see here, as we do not have any noise. So lets change the SNR of the signal."
   ]
  },
  {
   "cell_type": "code",
   "execution_count": null,
   "metadata": {},
   "outputs": [],
   "source": [
    "sig_noisy = impairments.change_snr(sig, 15) #snr is given in dB"
   ]
  },
  {
   "cell_type": "code",
   "execution_count": null,
   "metadata": {},
   "outputs": [],
   "source": [
    "plot_constellation(sig_noisy)"
   ]
  },
  {
   "cell_type": "markdown",
   "metadata": {},
   "source": [
    "ok that looks more realistic. OK normally we want to do some pulse-shaping, so we need to oversample. "
   ]
  },
  {
   "cell_type": "code",
   "execution_count": null,
   "metadata": {},
   "outputs": [],
   "source": [
    "sig_noisy2 = sig_noisy.resample(2*sig_noisy.fb, beta=0.1, renormalise=True)"
   ]
  },
  {
   "cell_type": "markdown",
   "metadata": {},
   "source": [
    "so whats the sampling frequency now?"
   ]
  },
  {
   "cell_type": "code",
   "execution_count": null,
   "metadata": {},
   "outputs": [],
   "source": [
    "print(\"%.1f GHz\"%(sig_noisy2.fs/1e9))"
   ]
  },
  {
   "cell_type": "code",
   "execution_count": null,
   "metadata": {},
   "outputs": [],
   "source": [
    "plot_constellation(sig_noisy2)"
   ]
  },
  {
   "cell_type": "markdown",
   "metadata": {},
   "source": [
    "ok this looks like a mess now, but this is expected considering that we are oversampling. The beauty is however that the usual numpy indexing tricks still work."
   ]
  },
  {
   "cell_type": "code",
   "execution_count": null,
   "metadata": {},
   "outputs": [],
   "source": [
    "plot_constellation(sig_noisy2[:,::2])"
   ]
  },
  {
   "cell_type": "markdown",
   "metadata": {},
   "source": [
    "so lets add some phase noise as well while we are add it"
   ]
  },
  {
   "cell_type": "code",
   "execution_count": null,
   "metadata": {},
   "outputs": [],
   "source": [
    "sig_noisy2 = impairments.apply_phase_noise(sig_noisy, 100e3)"
   ]
  },
  {
   "cell_type": "code",
   "execution_count": null,
   "metadata": {},
   "outputs": [],
   "source": [
    "plot_constellation(sig_noisy2)"
   ]
  },
  {
   "cell_type": "markdown",
   "metadata": {},
   "source": [
    "and finally maybe some PMD"
   ]
  },
  {
   "cell_type": "code",
   "execution_count": null,
   "metadata": {},
   "outputs": [],
   "source": [
    "sig_noisy2 = impairments.apply_PMD_to_field(sig_noisy2, np.pi/5.6, 40e-12)"
   ]
  },
  {
   "cell_type": "code",
   "execution_count": null,
   "metadata": {},
   "outputs": [],
   "source": [
    "plot_constellation(sig_noisy2)"
   ]
  },
  {
   "cell_type": "markdown",
   "metadata": {},
   "source": [
    "### so let's get it back"
   ]
  },
  {
   "cell_type": "code",
   "execution_count": null,
   "metadata": {},
   "outputs": [],
   "source": [
    "wxy, err = equalisation.equalise_signal(sig_noisy2, 1e-3, Ntaps=21, method=\"cma\")"
   ]
  },
  {
   "cell_type": "markdown",
   "metadata": {},
   "source": [
    "so did the equaliser converge?"
   ]
  },
  {
   "cell_type": "code",
   "execution_count": null,
   "metadata": {},
   "outputs": [],
   "source": [
    "fig = figure(title=\"Error\", output_backend=\"webgl\")\n",
    "fig.line(np.arange(err[0].shape[0]), abs(err[0]), color='red', alpha=1, legend=\"X\")\n",
    "fig.xaxis[0].axis_label = \"symbol\"\n",
    "fig.yaxis[0].axis_label = \"error\"\n",
    "show(fig)"
   ]
  },
  {
   "cell_type": "code",
   "execution_count": null,
   "metadata": {},
   "outputs": [],
   "source": [
    "fig = figure(title=\"Error\", output_backend=\"webgl\")\n",
    "fig.line(np.arange(wxy[0].shape[1]), wxy[0][0].real, color='red', alpha=1, legend=\"hxx\")\n",
    "fig.line(np.arange(wxy[0].shape[1]), wxy[0][1].real, color='blue', alpha=1, legend=\"hxy\")\n",
    "fig.xaxis[0].axis_label = \"tap\"\n",
    "fig.yaxis[0].axis_label = \"weight\"\n",
    "show(fig)"
   ]
  },
  {
   "cell_type": "code",
   "execution_count": null,
   "metadata": {},
   "outputs": [],
   "source": [
    "sig_out = equalisation.apply_filter(sig_noisy2, wxy)"
   ]
  },
  {
   "cell_type": "code",
   "execution_count": null,
   "metadata": {},
   "outputs": [],
   "source": [
    "plot_constellation(sig_out)"
   ]
  },
  {
   "cell_type": "markdown",
   "metadata": {},
   "source": [
    "### So let's do some phase recovery"
   ]
  },
  {
   "cell_type": "code",
   "execution_count": null,
   "metadata": {},
   "outputs": [],
   "source": [
    "sig_out2, ph = phaserec.viterbiviterbi(sig_out, 11)\n",
    "sig_out2 = helpers.normalise_and_center(sig_out2)\n",
    "sig_out2 = helpers.dump_edges(sig_out2, 10)"
   ]
  },
  {
   "cell_type": "code",
   "execution_count": null,
   "metadata": {},
   "outputs": [],
   "source": [
    "plot_constellation(sig_out2)"
   ]
  },
  {
   "cell_type": "markdown",
   "metadata": {},
   "source": [
    "### So lets see how good our signal is"
   ]
  },
  {
   "cell_type": "code",
   "execution_count": null,
   "metadata": {},
   "outputs": [],
   "source": [
    "print(\"SER = \",sig_out2.cal_ser())\n",
    "print(\"BER = \", sig_out2.cal_ber())"
   ]
  },
  {
   "cell_type": "markdown",
   "metadata": {},
   "source": [
    "### We also have EVM and GMI build in"
   ]
  },
  {
   "cell_type": "code",
   "execution_count": null,
   "metadata": {},
   "outputs": [],
   "source": [
    "print(\"GMI =\", sig_out2.cal_gmi()[0])\n",
    "print(\"EVM = \", sig_out2.cal_evm())"
   ]
  },
  {
   "cell_type": "markdown",
   "metadata": {},
   "source": [
    "## There is other equaliser methods as well. \n",
    "\n",
    "* modified CMA.\n",
    "* several Decision Directed LMS algorithms (see equalisation module for details)"
   ]
  },
  {
   "cell_type": "code",
   "execution_count": null,
   "metadata": {},
   "outputs": [],
   "source": [
    "wxy2, err2 = equalisation.equalise_signal(sig_noisy2, 1e-3, Ntaps=21, method=\"mcma\")"
   ]
  },
  {
   "cell_type": "code",
   "execution_count": null,
   "metadata": {},
   "outputs": [],
   "source": [
    "sig_out3 = equalisation.apply_filter(sig_noisy2, wxy)\n",
    "sig_out3, ph = phaserec.viterbiviterbi(sig_out3, 11)\n",
    "sig_out3 = helpers.normalise_and_center(sig_out3)\n",
    "sig_out3 = helpers.dump_edges(sig_out3, 10)\n",
    "plot_constellation(sig_out3)\n",
    "print(\"SER = \",sig_out2.cal_ser())\n",
    "print(\"BER = \", sig_out2.cal_ber())"
   ]
  },
  {
   "cell_type": "markdown",
   "metadata": {},
   "source": [
    "## Speed\n",
    "\n",
    "We really wanted to make this fast, so that you can do \"live\" processing. All the time critical functions are implemented using \"cython\" and run essentially at C-speed with multi-threading support and a fallback option using numba. We also have some initial GPU processing support, but this is still work in progress (In the future you should be able to select backends quite easily). Let's check this out:"
   ]
  },
  {
   "cell_type": "code",
   "execution_count": null,
   "metadata": {},
   "outputs": [],
   "source": [
    "%%timeit \n",
    "sig = signals.SignalQAMGrayCoded(4, 10**5, fb=25e9, nmodes=2)\n",
    "sig = sig.resample(sig.fb*2, beta=0.1, renormalise=True)\n",
    "sig = impairments.apply_phase_noise(sig, 100e3)\n",
    "sig = impairments.apply_PMD_to_field(sig, np.pi/5.6, 60e-12)\n",
    "sig = impairments.change_snr(sig, 15)\n",
    "wxy, err = equalisation.equalise_signal(sig, 1e-3, Ntaps=21, method=\"mcma\")\n",
    "sig_out3 = equalisation.apply_filter(sig, wxy)\n",
    "sig_out3, ph = phaserec.viterbiviterbi(sig_out3, 11)\n",
    "sig_out3 = helpers.normalise_and_center(sig_out3)\n",
    "sig_out3 = helpers.dump_edges(sig_out3, 10)\n"
   ]
  },
  {
   "cell_type": "markdown",
   "metadata": {},
   "source": [
    "The equaliser is actually much faster than a lot of the other things"
   ]
  },
  {
   "cell_type": "code",
   "execution_count": null,
   "metadata": {},
   "outputs": [],
   "source": [
    "%%timeit\n",
    "equalisation.equalise_signal(sig, 1e-3, Ntaps=21, method=\"mcma\")"
   ]
  },
  {
   "cell_type": "markdown",
   "metadata": {},
   "source": [
    "## What are "
   ]
  }
 ],
 "metadata": {
  "language_info": {
   "name": "python",
   "pygments_lexer": "ipython3"
  }
 },
 "nbformat": 4,
 "nbformat_minor": 2
}
