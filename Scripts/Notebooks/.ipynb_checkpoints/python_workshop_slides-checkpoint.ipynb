{
 "cells": [
  {
   "cell_type": "markdown",
   "metadata": {},
   "source": [
    "** “Portions of this presentation are based on http://nbviewer.jupyter.org/github/jrjohansson/scientific-python-lectures/blob/master/Lecture-4-Matplotlib.ipynb, which is licensed under the Creative Commons Attribution 3.0 Unported license.  For the portions that We have created, they are licensed under the MIT license.“  **"
   ]
  },
  {
   "cell_type": "markdown",
   "metadata": {},
   "source": [
    "\n",
    "# Lab Automation, Photonics, and Open Source Hackathon\n",
    "\n",
    "   **Jochen Schroeder** *Chalmers University of Technology*\n",
    "   \n",
    "   **Nicolas Fontaine** *Nokia Bell Labs* \n",
    "   \n",
    "   **Binbin Guan** *Acacia Communications*\n",
    "  \n",
    "  Thanks to Nokia, Acacia and Chalmers.\n",
    "  Special thanks to the OSA for the food and drinks"
   ]
  },
  {
   "cell_type": "markdown",
   "metadata": {},
   "source": [
    "** We have USB stick for installing python. If you haven't installed it, please find Nick for instructions.**"
   ]
  },
  {
   "cell_type": "markdown",
   "metadata": {},
   "source": [
    "# Goals and Expectations\n",
    "\n",
    "## Networking\n",
    "- Provide a non-threatening environment for students to meet \"professionals\" and build their network.\n",
    "- Gather opensource community in optical communications into one room. \n",
    "\n",
    "**Introduction to Open Source Software**\n",
    "- Lab Automation and Photonics \n",
    "- Share experiences using opensource software, especially python\n",
    "\n",
    "**Interactive**\n",
    "- Demos, and examples you can run!\n",
    "\n",
    "**WHY ARE YOU HERE?**"
   ]
  },
  {
   "cell_type": "markdown",
   "metadata": {},
   "source": [
    "# Why is Python So Popular?\n",
    "- Open Source - Free, Portable, not-proprietary (you can see the algorithms)\n",
    "- Great packages -- Jupyter, Spyder, Scipy\n",
    "- Huge opensource community [LIGO uses it to process gravitation waves]\n",
    "- It's a real programming language - Can do everything matlab, labview can do and much more\n",
    "- Easy to interface with other programming languages and libraries\n",
    "- Webdesign\n",
    "- GUIs, Jupyter Notebook, Spyder\n",
    "- Fun, simple to program\n",
    "- Connect to any lab instrument through pyvisa, sockets, serial etc..\n",
    "- Demand for python programmers -- i.e., google and facebook\n",
    "# Why don't you?\n"
   ]
  },
  {
   "cell_type": "markdown",
   "metadata": {},
   "source": [
    "# Drawbacks/Challenges getting started?\n",
    "- Installation not standard\n",
    "- Help is not consolidated -- thousands of packages from many different developers\n",
    "\n",
    "Drawbacks well summarized by mathworks:\n",
    "https://www.mathworks.com/products/matlab/matlab-vs-python.html\n",
    "\n",
    "Good document for getting started if you are a matlab user:\n",
    "https://docs.scipy.org/doc/numpy-dev/user/numpy-for-matlab-users.html\n",
    "\n",
    "Visit http://python4photonics.org/ for some installation guidance\n"
   ]
  },
  {
   "cell_type": "markdown",
   "metadata": {},
   "source": [
    "***\n",
    "## Using python with Jupyter notebook (like web-browser based IDE)\n",
    "\n",
    "Start a Command Prompt (windows) or terminal (linux or mac OS)\n",
    "\n",
    "Type 'Jupyter Notebook', then your browser will pop out with the main page of the jupyter notebook\n",
    "\n",
    "Or\n",
    "\n",
    "Type 'spyder --new-instance' to open the spyder IDE"
   ]
  },
  {
   "cell_type": "markdown",
   "metadata": {},
   "source": [
    "***\n",
    "### Mark down is really helpful\n",
    "\n",
    "#### It supports latex as well!\n",
    "\n",
    "$$ E = mc^{2} $$"
   ]
  },
  {
   "cell_type": "markdown",
   "metadata": {},
   "source": [
    "# Python for Photonics\n",
    "\n",
    "Find more information, tutorials, links and some of the code presented here at __[python4photonics.org](https://python4photonics.org)__\n",
    "\n",
    "![py4photonics](website_python_for_photonics.png)"
   ]
  },
  {
   "cell_type": "markdown",
   "metadata": {},
   "source": [
    "## We want to hear from you!\n",
    "\n",
    "### Give us your feedback\n",
    "* What would you like us to cover more/less\n",
    "* Would you be interested in a lab automation short course?\n",
    "* ...\n",
    "\n",
    "### Send us an email\n",
    "* Jochen.schroeder@chalmers.se\n",
    "* rguan@acacia-inc.com\n",
    "* nicolas.fontaine@nokia-bell-labs.com\n",
    "\n",
    "### Use the RSVP link\n",
    "https://goo.gl/forms/CxJ3wK1rDMXAj6X52\n",
    "### We will send some email to the RSVP email\n",
    "* let us know if you don't like this\n",
    "* give us your email if you did not sign up yet"
   ]
  },
  {
   "cell_type": "markdown",
   "metadata": {},
   "source": [
    "## What's coming next?\n",
    "\n",
    "* Open format\n",
    "* 9 \"booths\" with demos\n",
    "* 20 min demo time \n",
    "\n",
    "### Speakers\n",
    "* *Getting started* -- Nick Fontaine, Nokia Bell Labs\n",
    "* *Basic DSP in Python* -- Ruben Luis, NICT, Rasmus Thomas Jones DTU Fotonik\n",
    "* *Nazca design for Photonic IC layout* -- Ronald Broeke, Bright Photonics\n",
    "* *Python debugging and unit testing* -- Marco Rizzi, Facebook \n",
    "* *Getting Started with Keysight Command Expert (KCE) and Python* -- John Dorighi, Keysight Technologies\n",
    "* *MEEP for electromagnetic simulations* -- Ardavan Oskooi, Simpetus\n",
    "* *Efficient modeling and optimization for silicon photonic components* -- Adam Reid, Jackson Klein, Lumerical Inc.\n",
    "* *Model fitting with python and circuit simulation* -- Pieter Dumon, Luceda Photonics\n",
    "* *DSP using open source QAMpy* -- Jochen Schröder, Mikael Mazur, Chalmers University of Technology\n"
   ]
  },
  {
   "cell_type": "markdown",
   "metadata": {},
   "source": [
    "*** \n",
    "### Useful tips\n",
    "Code cell： you can write and excute python script inside\n",
    "\n",
    "Markdown cell: you can write markdown scripts \n",
    "\n",
    "Shift + Enter can run each cell "
   ]
  },
  {
   "cell_type": "markdown",
   "metadata": {},
   "source": [
    "***\n",
    "### Practice 1: List, Dictionaries"
   ]
  },
  {
   "cell_type": "code",
   "execution_count": null,
   "metadata": {},
   "outputs": [],
   "source": [
    "workshop = ['lumerical','facebook','meep','luceda','keysight','NICT','Nazca','chalmers','acacia','bell labs']\n",
    "print(workshop[3])\n",
    "workshop.append('OFC')\n",
    "print(workshop)"
   ]
  },
  {
   "cell_type": "code",
   "execution_count": null,
   "metadata": {},
   "outputs": [],
   "source": [
    "automation = {}\n",
    "automation['food'] = 'pizza'\n",
    "automation['presenter'] = 'nick'\n",
    "automation['time'] = '8pm'\n",
    "print(automation.keys())\n",
    "del automation['time']\n",
    "print(automation.keys())"
   ]
  },
  {
   "cell_type": "markdown",
   "metadata": {},
   "source": [
    "***\n",
    "### Practice 2: Numpy"
   ]
  },
  {
   "cell_type": "code",
   "execution_count": null,
   "metadata": {},
   "outputs": [],
   "source": [
    "import numpy as np"
   ]
  },
  {
   "cell_type": "code",
   "execution_count": null,
   "metadata": {},
   "outputs": [],
   "source": [
    "import matplotlib.pyplot as plt"
   ]
  },
  {
   "cell_type": "code",
   "execution_count": null,
   "metadata": {},
   "outputs": [],
   "source": [
    "### core library for scientific computing\n",
    "a = np.array([3,1,1])\n",
    "print(a)\n",
    "print(type(a))\n",
    "b = np.zeros(4,dtype = float)\n",
    "b[0] = 3\n",
    "print(b)\n",
    "c = np.zeros_like(b)\n",
    "print(c)"
   ]
  },
  {
   "cell_type": "code",
   "execution_count": null,
   "metadata": {},
   "outputs": [],
   "source": [
    "### indexing\n",
    "print(b[1:])\n",
    "print(b[:-2])\n",
    "### math\n",
    "d = b*2\n",
    "print(d)\n",
    "### more functions are included in numpy"
   ]
  },
  {
   "cell_type": "markdown",
   "metadata": {},
   "source": [
    "***\n",
    "## Practice 3: Loop"
   ]
  },
  {
   "cell_type": "code",
   "execution_count": null,
   "metadata": {},
   "outputs": [],
   "source": [
    "for index in range(0,4):\n",
    "    print('this is %s' %(index))"
   ]
  },
  {
   "cell_type": "markdown",
   "metadata": {},
   "source": [
    "***\n",
    "## Practice 4: Plot figures with Matplotlib"
   ]
  },
  {
   "cell_type": "code",
   "execution_count": null,
   "metadata": {},
   "outputs": [],
   "source": [
    "x = np.arange(0,100)\n",
    "y = np.exp(1e-4*x**2)\n",
    "\n",
    "plt.plot(x,y)"
   ]
  },
  {
   "cell_type": "markdown",
   "metadata": {},
   "source": [
    "#### Adding title, x/y label, legend"
   ]
  },
  {
   "cell_type": "code",
   "execution_count": null,
   "metadata": {},
   "outputs": [],
   "source": [
    "plt.plot(x,y,label = 'yay')\n",
    "plt.xlabel('Great')\n",
    "plt.ylabel('Awesome')\n",
    "plt.legend()\n",
    "plt.title('tutorial')\n",
    "plt.show()"
   ]
  },
  {
   "cell_type": "markdown",
   "metadata": {},
   "source": [
    "#### mutliple curves in one figure, you can change color and it will automatically add color change for you"
   ]
  },
  {
   "cell_type": "code",
   "execution_count": null,
   "metadata": {},
   "outputs": [],
   "source": [
    "plt.plot(x,y)\n",
    "plt.plot(x,2*y)\n",
    "plt.plot(x,np.log2(y))\n",
    "plt.show()"
   ]
  },
  {
   "cell_type": "markdown",
   "metadata": {},
   "source": [
    "***\n",
    "## Practice 5: Save/Load Data\n",
    "\n",
    "** matlab file: save **"
   ]
  },
  {
   "cell_type": "code",
   "execution_count": null,
   "metadata": {},
   "outputs": [],
   "source": [
    "from scipy.io import savemat,loadmat\n",
    "\n",
    "a = np.arange(0,10)\n",
    "print(a)\n",
    "\n",
    "savemat('test.mat',{'a':a})"
   ]
  },
  {
   "cell_type": "markdown",
   "metadata": {},
   "source": [
    "** matlab file: load **"
   ]
  },
  {
   "cell_type": "code",
   "execution_count": null,
   "metadata": {},
   "outputs": [],
   "source": [
    "M = loadmat('test.mat')\n",
    "print(M.keys())\n",
    "a1 = M['a'][0]\n",
    "print(a1)"
   ]
  },
  {
   "cell_type": "markdown",
   "metadata": {},
   "source": [
    "** Write CSV **"
   ]
  },
  {
   "cell_type": "code",
   "execution_count": null,
   "metadata": {},
   "outputs": [],
   "source": [
    "import pandas as pd\n",
    "\n",
    "x1 = np.arange(0,100)\n",
    "y1 = np.sin(x1)\n",
    "z1 = x1**2\n",
    "\n",
    "name = ['x1','y1','z1']\n",
    "data_input = list(zip(x1,y1,z1))\n",
    "\n",
    "dp = pd.DataFrame(data = data_input,columns = name)\n"
   ]
  },
  {
   "cell_type": "code",
   "execution_count": null,
   "metadata": {},
   "outputs": [],
   "source": [
    "dp"
   ]
  },
  {
   "cell_type": "code",
   "execution_count": null,
   "metadata": {},
   "outputs": [],
   "source": [
    "dp.to_csv('test.csv',index = False, header = True)"
   ]
  },
  {
   "cell_type": "markdown",
   "metadata": {},
   "source": [
    "** Read CSV **"
   ]
  },
  {
   "cell_type": "code",
   "execution_count": null,
   "metadata": {},
   "outputs": [],
   "source": [
    "dr = pd.read_csv('test.csv')\n",
    "dr"
   ]
  },
  {
   "cell_type": "code",
   "execution_count": null,
   "metadata": {},
   "outputs": [],
   "source": []
  },
  {
   "cell_type": "code",
   "execution_count": null,
   "metadata": {},
   "outputs": [],
   "source": []
  },
  {
   "cell_type": "code",
   "execution_count": null,
   "metadata": {},
   "outputs": [],
   "source": []
  }
 ],
 "metadata": {
  "language_info": {
   "name": "python",
   "pygments_lexer": "ipython3"
  }
 },
 "nbformat": 4,
 "nbformat_minor": 2
}
