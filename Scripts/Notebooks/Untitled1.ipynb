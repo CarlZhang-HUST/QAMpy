{
 "cells": [
  {
   "cell_type": "code",
   "execution_count": null,
   "metadata": {},
   "outputs": [],
   "source": [
    "%pylab inline\n",
    "\n",
    "from qampy import signals, impairments\n",
    "import numpy as np\n",
    "\n",
    "snrs=np.arange(5, 30)\n",
    "i=0\n",
    "k=0\n",
    "gmi = np.zeros((4, snrs.shape[0]), dtype=np.float64)\n",
    "for i,M in enumerate([4, 16, 64, 256]):\n",
    "    for k,snr in enumerate(snrs):\n",
    "        sig = signals.SignalQAMGrayCoded(M, 40000, nmodes=1, fb=10e9)\n",
    "        sigo = impairments.change_snr(sig, snr)\n",
    "        gmi[i,k] = sigo.cal_gmi()[0]\n",
    "    plot(snrs, gmi[i], label=\"{}QAM\".format(M))\n",
    "legend()\n",
    "xlabel(\"SNR [dB]\")\n",
    "ylabel(\"GMI [bit/2D-symbol]\")"
   ]
  },
  {
   "cell_type": "code",
   "execution_count": null,
   "metadata": {},
   "outputs": [],
   "source": []
  },
  {
   "cell_type": "code",
   "execution_count": null,
   "metadata": {},
   "outputs": [],
   "source": [
    "sigo.cal_gmi()"
   ]
  },
  {
   "cell_type": "code",
   "execution_count": null,
   "metadata": {},
   "outputs": [],
   "source": []
  }
 ],
 "metadata": {
  "language_info": {
   "name": "python",
   "pygments_lexer": "ipython3"
  }
 },
 "nbformat": 4,
 "nbformat_minor": 2
}
