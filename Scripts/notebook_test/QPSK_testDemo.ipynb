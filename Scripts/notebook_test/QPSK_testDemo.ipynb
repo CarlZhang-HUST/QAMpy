{
 "cells": [
  {
   "cell_type": "code",
   "execution_count": null,
   "metadata": {},
   "outputs": [],
   "source": [
    "from qampy import signals, impairments, equalisation, phaserec, helpers\n",
    "import numpy as np\n",
    "# here we use bokeh for plotting as it is much faster\n",
    "from bokeh.io import output_notebook, push_notebook\n",
    "from bokeh.plotting import figure, show\n",
    "import warnings\n",
    "warnings.filterwarnings('ignore')\n",
    "output_notebook()"
   ]
  },
  {
   "cell_type": "markdown",
   "metadata": {},
   "source": [
    "Generate the signal"
   ]
  },
  {
   "cell_type": "code",
   "execution_count": null,
   "metadata": {},
   "outputs": [],
   "source": [
    "length = 10000"
   ]
  },
  {
   "cell_type": "code",
   "execution_count": null,
   "metadata": {},
   "outputs": [],
   "source": [
    "sig = signals.SignalQAMGrayCoded(4, length, nmodes=2, fb=25e9)"
   ]
  },
  {
   "cell_type": "code",
   "execution_count": null,
   "metadata": {},
   "outputs": [],
   "source": [
    "def plot_constellation(E):\n",
    "    fig = figure(title=\"QPSK signal constellation\", output_backend=\"webgl\")\n",
    "    fig.scatter(E[0].real, E[0].imag, color='red', alpha=0.3, legend=\"X\")\n",
    "    fig.scatter(E[1].real, E[1].imag, color='blue', alpha=0.3, legend=\"Y\")\n",
    "    fig.xaxis[0].axis_label = \"In-Phase\"\n",
    "    fig.yaxis[0].axis_label = \"Quadrature\"\n",
    "    show(fig)"
   ]
  },
  {
   "cell_type": "code",
   "execution_count": null,
   "metadata": {},
   "outputs": [],
   "source": [
    "# plot_constellation(sig)"
   ]
  },
  {
   "cell_type": "markdown",
   "metadata": {},
   "source": [
    "Resample and pulse shaping"
   ]
  },
  {
   "cell_type": "code",
   "execution_count": null,
   "metadata": {},
   "outputs": [],
   "source": [
    "sigResam = sig.resample(sig.fb*2, beta=0.1, renormalise=True)\n",
    "plot_constellation(sigResam)"
   ]
  },
  {
   "cell_type": "markdown",
   "metadata": {},
   "source": [
    "Add linear impairments"
   ]
  },
  {
   "cell_type": "code",
   "execution_count": null,
   "metadata": {},
   "outputs": [],
   "source": [
    "signoise = impairments.change_snr(sigResam, 20)\n",
    "# plot_constellation(signoise)"
   ]
  },
  {
   "cell_type": "code",
   "execution_count": null,
   "metadata": {},
   "outputs": [],
   "source": [
    "atten = 10 # unit:dB\n",
    "signoise = signoise/10**0.5  # attenuation\n",
    "# plot_constellation(signoise)"
   ]
  },
  {
   "cell_type": "code",
   "execution_count": null,
   "metadata": {},
   "outputs": [],
   "source": [
    "signoise = impairments.apply_phase_noise(signoise, 10e3)\n",
    "# plot_constellation(signoise)"
   ]
  },
  {
   "cell_type": "code",
   "execution_count": null,
   "metadata": {},
   "outputs": [],
   "source": [
    "signoise = impairments.add_carrier_offset(signoise, 25e6)\n",
    "# plot_constellation(signoise)"
   ]
  },
  {
   "cell_type": "code",
   "execution_count": null,
   "metadata": {},
   "outputs": [],
   "source": [
    "signoise= impairments.apply_PMD(signoise, np.pi/5.5, 10e-12)\n",
    "plot_constellation(signoise)"
   ]
  },
  {
   "cell_type": "markdown",
   "metadata": {},
   "source": [
    "Match filtering"
   ]
  },
  {
   "cell_type": "code",
   "execution_count": null,
   "metadata": {},
   "outputs": [],
   "source": [
    "signoise = signoise.resample(sig.fb*2, beta=0.1, renormalise=True)\n",
    "plot_constellation(signoise)"
   ]
  },
  {
   "cell_type": "markdown",
   "metadata": {},
   "source": [
    "linear compensation: \n",
    "\n",
    "- here we use a CMA equaliser with 17 taps and a stepsize 𝜇=2⋅10−3"
   ]
  },
  {
   "cell_type": "code",
   "execution_count": null,
   "metadata": {},
   "outputs": [],
   "source": [
    "wxy, err = equalisation.equalise_signal(signoise, 2e-3, Ntaps=17)\n",
    "sig_out = equalisation.apply_filter(signoise, wxy)\n",
    "plot_constellation(sig_out)"
   ]
  },
  {
   "cell_type": "code",
   "execution_count": null,
   "metadata": {},
   "outputs": [],
   "source": [
    "freq_offset = phaserec.find_freq_offset(sig_out,average_over_modes = False, fft_size = 2**15)\n",
    "freq_offset\n",
    "sig_out = phaserec.comp_freq_offset(sig_out,freq_offset)\n",
    "plot_constellation(sig_out)"
   ]
  },
  {
   "cell_type": "code",
   "execution_count": null,
   "metadata": {},
   "outputs": [],
   "source": [
    "sig_out, ph = phaserec.viterbiviterbi(sig_out, 11)\n",
    "plot_constellation(sig_out)"
   ]
  },
  {
   "cell_type": "markdown",
   "metadata": {},
   "source": [
    "Why do we need to get rid of the signal edges ?"
   ]
  },
  {
   "cell_type": "code",
   "execution_count": null,
   "metadata": {},
   "outputs": [],
   "source": [
    "sig_out = helpers.dump_edges(sig_out, 20)\n",
    "sig_out = helpers.normalise_and_center(sig_out)\n",
    "plot_constellation(sig_out)"
   ]
  },
  {
   "cell_type": "code",
   "execution_count": null,
   "metadata": {},
   "outputs": [],
   "source": [
    "ser = sig_out.cal_ser()\n",
    "ber = sig_out.cal_ber()\n",
    "print(\"SER_x = %.2f, SER_y= %.2f\"%(ser[0], ser[1]))\n",
    "print(\"BER_x = %.2f, BER_y = %.2f\"%(ber[0], ber[1]))"
   ]
  }
 ],
 "metadata": {
  "kernelspec": {
   "display_name": "Python 3",
   "language": "python",
   "name": "python3"
  },
  "language_info": {
   "codemirror_mode": {
    "name": "ipython",
    "version": 3
   },
   "file_extension": ".py",
   "mimetype": "text/x-python",
   "name": "python",
   "nbconvert_exporter": "python",
   "pygments_lexer": "ipython3",
   "version": "3.7.5"
  }
 },
 "nbformat": 4,
 "nbformat_minor": 2
}
